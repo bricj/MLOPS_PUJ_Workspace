{
 "cells": [
  {
   "cell_type": "markdown",
   "id": "bdc85c3e-f3c0-493a-8acf-5b90f2125e6f",
   "metadata": {},
   "source": [
    "## Depedencies"
   ]
  },
  {
   "cell_type": "code",
   "execution_count": 1,
   "id": "5100d095-c541-476c-a8b8-dd741a7d70e6",
   "metadata": {},
   "outputs": [
    {
     "ename": "ModuleNotFoundError",
     "evalue": "No module named 'pandas'",
     "output_type": "error",
     "traceback": [
      "\u001b[0;31m---------------------------------------------------------------------------\u001b[0m",
      "\u001b[0;31mModuleNotFoundError\u001b[0m                       Traceback (most recent call last)",
      "Cell \u001b[0;32mIn[1], line 1\u001b[0m\n\u001b[0;32m----> 1\u001b[0m \u001b[38;5;28;01mfrom\u001b[39;00m\u001b[38;5;250m \u001b[39m\u001b[38;5;21;01mget_processed_data\u001b[39;00m\u001b[38;5;250m \u001b[39m\u001b[38;5;28;01mimport\u001b[39;00m \u001b[38;5;241m*\u001b[39m\n\u001b[1;32m      2\u001b[0m \u001b[38;5;28;01mimport\u001b[39;00m\u001b[38;5;250m \u001b[39m\u001b[38;5;21;01mos\u001b[39;00m\n\u001b[1;32m      3\u001b[0m \u001b[38;5;28;01mimport\u001b[39;00m\u001b[38;5;250m \u001b[39m\u001b[38;5;21;01mrequests\u001b[39;00m\n",
      "File \u001b[0;32m/app/src/get_processed_data.py:3\u001b[0m\n\u001b[1;32m      1\u001b[0m \u001b[38;5;28;01mimport\u001b[39;00m\u001b[38;5;250m \u001b[39m\u001b[38;5;21;01mos\u001b[39;00m\n\u001b[1;32m      2\u001b[0m \u001b[38;5;28;01mimport\u001b[39;00m\u001b[38;5;250m \u001b[39m\u001b[38;5;21;01mrequests\u001b[39;00m\n\u001b[0;32m----> 3\u001b[0m \u001b[38;5;28;01mimport\u001b[39;00m\u001b[38;5;250m \u001b[39m\u001b[38;5;21;01mpandas\u001b[39;00m\u001b[38;5;250m \u001b[39m\u001b[38;5;28;01mas\u001b[39;00m\u001b[38;5;250m \u001b[39m\u001b[38;5;21;01mpd\u001b[39;00m\n\u001b[1;32m      4\u001b[0m \u001b[38;5;28;01mimport\u001b[39;00m\u001b[38;5;250m \u001b[39m\u001b[38;5;21;01mnumpy\u001b[39;00m\u001b[38;5;250m \u001b[39m\u001b[38;5;28;01mas\u001b[39;00m\u001b[38;5;250m \u001b[39m\u001b[38;5;21;01mnp\u001b[39;00m\n\u001b[1;32m      5\u001b[0m \u001b[38;5;28;01mimport\u001b[39;00m\u001b[38;5;250m \u001b[39m\u001b[38;5;21;01mmatplotlib\u001b[39;00m\u001b[38;5;21;01m.\u001b[39;00m\u001b[38;5;21;01mpyplot\u001b[39;00m\u001b[38;5;250m \u001b[39m\u001b[38;5;28;01mas\u001b[39;00m\u001b[38;5;250m \u001b[39m\u001b[38;5;21;01mplt\u001b[39;00m\n",
      "\u001b[0;31mModuleNotFoundError\u001b[0m: No module named 'pandas'"
     ]
    }
   ],
   "source": [
    "from get_processed_data import *\n",
    "import os\n",
    "import requests\n",
    "import tensorflow as tf\n",
    "\n",
    "from tfx.components import CsvExampleGen\n",
    "from tfx.components import ExampleValidator\n",
    "from tfx.components import SchemaGen\n",
    "from tfx.components import StatisticsGen\n",
    "from tfx.components import Transform\n",
    "\n",
    "from tfx.orchestration.experimental.interactive.interactive_context import InteractiveContext\n",
    "from google.protobuf.json_format import MessageToDict\n",
    "\n",
    "from ml_metadata import metadata_store\n",
    "from ml_metadata.proto import metadata_store_pb2"
   ]
  },
  {
   "cell_type": "markdown",
   "id": "431a6ce0-3eec-40ee-8f26-7910b108300a",
   "metadata": {},
   "source": [
    "## Get Data"
   ]
  },
  {
   "cell_type": "code",
   "execution_count": 2,
   "id": "1acb915c-31cb-495e-924a-d93a0acf2ca1",
   "metadata": {},
   "outputs": [
    {
     "ename": "NameError",
     "evalue": "name 'get_data' is not defined",
     "output_type": "error",
     "traceback": [
      "\u001b[0;31m---------------------------------------------------------------------------\u001b[0m",
      "\u001b[0;31mNameError\u001b[0m                                 Traceback (most recent call last)",
      "Cell \u001b[0;32mIn[2], line 7\u001b[0m\n\u001b[1;32m      1\u001b[0m \u001b[38;5;66;03m# Obtener los datos planteados para el ejercicio. Si se desea el detalle de las\u001b[39;00m\n\u001b[1;32m      2\u001b[0m \u001b[38;5;66;03m# funciones, ver el archivo \"get_processed_data\"\u001b[39;00m\n\u001b[1;32m      3\u001b[0m \n\u001b[1;32m      4\u001b[0m \u001b[38;5;66;03m# Nota: El codigo se ejecuto para guardar el archivo en una ruta definida, no obstante,\u001b[39;00m\n\u001b[1;32m      5\u001b[0m \u001b[38;5;66;03m# podra ejecutarlo para validar la funcionalidad\u001b[39;00m\n\u001b[0;32m----> 7\u001b[0m df \u001b[38;5;241m=\u001b[39m \u001b[43mget_data\u001b[49m()\n\u001b[1;32m      8\u001b[0m num_f \u001b[38;5;241m=\u001b[39m numerical_feature_selection(df,quantitative_variables,target_value)\n\u001b[1;32m      9\u001b[0m cat_f \u001b[38;5;241m=\u001b[39m categorical_feature_selection(df,categorical_variables,target_value)\n",
      "\u001b[0;31mNameError\u001b[0m: name 'get_data' is not defined"
     ]
    }
   ],
   "source": [
    "# Obtener los datos planteados para el ejercicio. Si se desea el detalle de las\n",
    "# funciones, ver el archivo \"get_processed_data\"\n",
    "\n",
    "# Nota: El codigo se ejecuto para guardar el archivo en una ruta definida, no obstante,\n",
    "# podra ejecutarlo para validar la funcionalidad\n",
    "\n",
    "df = get_data()\n",
    "num_f = numerical_feature_selection(df,quantitative_variables,target_value)\n",
    "cat_f = categorical_feature_selection(df,categorical_variables,target_value)\n",
    "df_processed = pd.concat([num_f , cat_f],axis=1)\n",
    "df_processed.columns = df_processed.columns.str.lower()\n",
    "df_processed.columns = df_processed.columns.str.lower().str.strip().str.replace(\" \", \"_\")\n",
    "df_processed.to_csv(\"./data/processed_data/df_processed.csv\",index=False)"
   ]
  },
  {
   "cell_type": "markdown",
   "id": "b98108db-1423-4a3d-8cf3-21c6519d20ad",
   "metadata": {},
   "source": [
    "## Pipeline"
   ]
  },
  {
   "cell_type": "markdown",
   "id": "8316c3d7-9469-4ac4-9ad4-f8fea77a8fcd",
   "metadata": {},
   "source": [
    "### Parameters"
   ]
  },
  {
   "cell_type": "code",
   "execution_count": null,
   "id": "850e291b-91f7-4651-99a2-d1f8549f55ec",
   "metadata": {},
   "outputs": [],
   "source": [
    "# location of the pipeline metadata store\n",
    "_pipeline_root = './pipeline/'\n",
    "# directory of the raw data files\n",
    "_data_root = './data/processed_data'\n",
    "# path to the raw training data\n",
    "_data_filepath = os.path.join(_data_root, 'processed_data.csv')\n",
    "\n",
    "## Download data\n",
    "os.makedirs(_data_root, exist_ok=True)\n",
    "\n",
    "context = InteractiveContext(pipeline_root=pipeline_root)"
   ]
  },
  {
   "cell_type": "markdown",
   "id": "284278da-55a9-45e3-b9da-a20aa0d3aac9",
   "metadata": {},
   "source": [
    "### Generate Examples"
   ]
  },
  {
   "cell_type": "code",
   "execution_count": null,
   "id": "0337ef51-2421-46e8-b6f4-01998d0aedb5",
   "metadata": {},
   "outputs": [],
   "source": [
    "# Instantiate ExampleGen with the input CSV dataset\n",
    "example_gen = CsvExampleGen(input_base=data_root)"
   ]
  },
  {
   "cell_type": "code",
   "execution_count": null,
   "id": "dc02a9b4-90b3-422a-8ac5-848e38ecd3d6",
   "metadata": {
    "scrolled": true
   },
   "outputs": [],
   "source": [
    "# Execute the component\n",
    "context.run(example_gen)"
   ]
  },
  {
   "cell_type": "markdown",
   "id": "d497a24d-98b1-4a70-b67b-bfe770a8ca78",
   "metadata": {},
   "source": [
    "### Statistics"
   ]
  },
  {
   "cell_type": "code",
   "execution_count": null,
   "id": "e0f212c9-7807-4e7f-a8dd-ce028d53beda",
   "metadata": {},
   "outputs": [],
   "source": [
    "# Instantiate StatisticsGen with the ExampleGen ingested dataset\n",
    "statistics_gen = StatisticsGen(\n",
    "    examples=example_gen.outputs['examples'])\n",
    "\n",
    "# Execute the component\n",
    "context.run(statistics_gen)"
   ]
  },
  {
   "cell_type": "code",
   "execution_count": 3,
   "id": "bc9fe9c5-5cda-48ef-a919-31c289276e1e",
   "metadata": {},
   "outputs": [
    {
     "ename": "NameError",
     "evalue": "name 'context' is not defined",
     "output_type": "error",
     "traceback": [
      "\u001b[0;31m---------------------------------------------------------------------------\u001b[0m",
      "\u001b[0;31mNameError\u001b[0m                                 Traceback (most recent call last)",
      "\u001b[0;32m/tmp/ipykernel_397/1279127838.py\u001b[0m in \u001b[0;36m<cell line: 2>\u001b[0;34m()\u001b[0m\n\u001b[1;32m      1\u001b[0m \u001b[0;31m# Show the output statistics\u001b[0m\u001b[0;34m\u001b[0m\u001b[0;34m\u001b[0m\u001b[0m\n\u001b[0;32m----> 2\u001b[0;31m \u001b[0mcontext\u001b[0m\u001b[0;34m.\u001b[0m\u001b[0mshow\u001b[0m\u001b[0;34m(\u001b[0m\u001b[0mstatistics_gen\u001b[0m\u001b[0;34m.\u001b[0m\u001b[0moutputs\u001b[0m\u001b[0;34m[\u001b[0m\u001b[0;34m'statistics'\u001b[0m\u001b[0;34m]\u001b[0m\u001b[0;34m)\u001b[0m\u001b[0;34m\u001b[0m\u001b[0;34m\u001b[0m\u001b[0m\n\u001b[0m",
      "\u001b[0;31mNameError\u001b[0m: name 'context' is not defined"
     ]
    }
   ],
   "source": [
    "# Show the output statistics\n",
    "context.show(statistics_gen.outputs['statistics'])"
   ]
  },
  {
   "cell_type": "markdown",
   "id": "911f8ee6-1380-4f44-a0a8-2bca13e664c3",
   "metadata": {},
   "source": [
    "# Metadata"
   ]
  },
  {
   "cell_type": "markdown",
   "id": "84a4d560-ff34-4dec-a881-aea4095f2413",
   "metadata": {},
   "source": [
    "## Automatic learning Metadata"
   ]
  },
  {
   "cell_type": "code",
   "execution_count": null,
   "id": "a7d19a18-5be5-41ce-9410-423cba8c6df5",
   "metadata": {},
   "outputs": [],
   "source": [
    "# Path to metadata storage\n",
    "metadata_connection_config = context.metadata_connection_config\n",
    "\n",
    "# MetadataStore creation\n",
    "store = metadata_store.MetadataStore(metadata_connection_config)\n",
    "\n",
    "#showing all artifact types\n",
    "artifact_types = store.get_artifact_types()\n",
    "for artifact_type in artifact_types:\n",
    "    print(artifact_type.name)"
   ]
  },
  {
   "cell_type": "code",
   "execution_count": null,
   "id": "2e9b7561-b02c-4b0b-8dae-4b1a67fe6c58",
   "metadata": {},
   "outputs": [],
   "source": [
    "# Retreiving 'Schema' artifacts\n",
    "schema_artifacts = store.get_artifacts_by_type('Schema')\n",
    "\n",
    "# Showing details for Schema artifacts\n",
    "for artifact in schema_artifacts:\n",
    "    print(f\"Artifact ID: {artifact.id}\")\n",
    "    print(f\"URI: {artifact.uri}\")"
   ]
  },
  {
   "cell_type": "markdown",
   "id": "6da61759-5de5-4fa6-8f18-855fde68b7af",
   "metadata": {},
   "source": [
    "## Retreiving main artifacts"
   ]
  },
  {
   "cell_type": "code",
   "execution_count": null,
   "id": "6a779bbe-7029-4f6a-a5b4-294793c2a7da",
   "metadata": {},
   "outputs": [],
   "source": [
    "# retreiving main artifacts for 'Examples'\n",
    "Examples = get_artifacts_details(store, 'Examples')\n",
    "Examples"
   ]
  },
  {
   "cell_type": "code",
   "execution_count": null,
   "id": "785c335b-7af6-4e4d-8eeb-b639cfba551b",
   "metadata": {},
   "outputs": [],
   "source": [
    "# retreiving main artifacts for 'Schema'\n",
    "schema = get_artifacts_details(store, 'Schema')\n",
    "schema"
   ]
  }
 ],
 "metadata": {
  "kernelspec": {
   "display_name": "Python 3 (ipykernel)",
   "language": "python",
   "name": "python3"
  },
  "language_info": {
   "codemirror_mode": {
    "name": "ipython",
    "version": 3
   },
   "file_extension": ".py",
   "mimetype": "text/x-python",
   "name": "python",
   "nbconvert_exporter": "python",
   "pygments_lexer": "ipython3",
   "version": "3.10.16"
  }
 },
 "nbformat": 4,
 "nbformat_minor": 5
}
