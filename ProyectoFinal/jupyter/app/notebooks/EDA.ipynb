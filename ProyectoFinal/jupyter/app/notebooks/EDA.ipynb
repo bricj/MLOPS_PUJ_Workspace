{
 "cells": [
  {
   "cell_type": "code",
   "execution_count": 1,
   "id": "bef96ecc-fb8f-463f-b78c-23e477e1ef0a",
   "metadata": {},
   "outputs": [],
   "source": [
    "import requests\n",
    "import pandas as pd\n",
    "import numpy as np\n",
    "import matplotlib.pyplot as plt\n",
    "import os\n",
    "import json\n"
   ]
  },
  {
   "cell_type": "markdown",
   "id": "5f14021d-9c45-4630-9e4b-848e8d3f294d",
   "metadata": {
    "jp-MarkdownHeadingCollapsed": true
   },
   "source": [
    "## Get Information"
   ]
  },
  {
   "cell_type": "code",
   "execution_count": 6,
   "id": "7aa4c5cf-4987-4b5b-8595-315076fd2ef7",
   "metadata": {},
   "outputs": [
    {
     "name": "stdout",
     "output_type": "stream",
     "text": [
      "Request failed: 400 Client Error: Bad Request for url: http://10.43.101.108/data?group_number=3&day=Tuesday\n",
      "Success to get data from group 4. This file will be save in ./data/group_4_data.json \n",
      "Success to get data from group 5. This file will be save in ./data/group_5_data.json \n",
      "Success to get data from group 6. This file will be save in ./data/group_6_data.json \n",
      "Success to get data from group 7. This file will be save in ./data/group_7_data.json \n",
      "Success to get data from group 8. This file will be save in ./data/group_8_data.json \n",
      "Success to get data from group 9. This file will be save in ./data/group_9_data.json \n",
      "Success to get data from group 10. This file will be save in ./data/group_10_data.json \n",
      "Request failed: 400 Client Error: Bad Request for url: http://10.43.101.108/data?group_number=11&day=Tuesday\n",
      "Request failed: 400 Client Error: Bad Request for url: http://10.43.101.108/data?group_number=12&day=Tuesday\n",
      "Request failed: 400 Client Error: Bad Request for url: http://10.43.101.108/data?group_number=13&day=Tuesday\n",
      "Request failed: 400 Client Error: Bad Request for url: http://10.43.101.108/data?group_number=14&day=Tuesday\n",
      "Request failed: 400 Client Error: Bad Request for url: http://10.43.101.108/data?group_number=15&day=Tuesday\n",
      "Success to get data from group 1. This file will be save in ./data/group_1_data.json \n",
      "Success to get data from group 2. This file will be save in ./data/group_2_data.json \n"
     ]
    }
   ],
   "source": [
    "url = \"http://10.43.101.108/data\"\n",
    "groups = [3,4,5,6,7,8,9,10,1,2]\n",
    "\n",
    "\n",
    "folder = \"./data/\"\n",
    "failed_captured = []\n",
    "\n",
    "os.makedirs(folder, exist_ok=True)\n",
    "\n",
    "for group in groups:\n",
    "    try:\n",
    "        params = {\n",
    "        \"group_number\": group,\n",
    "        \"day\": \"Tuesday\"\n",
    "        #\"day\": \"Wednesday\"    \n",
    "        }\n",
    "        response = requests.get(url, params=params)\n",
    "        response.raise_for_status()  # Raises HTTPError for bad responses\n",
    "        res = response.json()\n",
    "\n",
    "         # Guardar JSON en archivo\n",
    "        filename = os.path.join(folder, f\"group_{group}_data.json\")\n",
    "        with open(filename, \"w\", encoding=\"utf-8\") as f:\n",
    "            json.dump(res, f, ensure_ascii=False, indent=4)\n",
    "        print(f'Success to get data from group {group}. This file will be save in {filename} ')\n",
    "        \n",
    "    except requests.exceptions.RequestException as e:\n",
    "        failed_captured.append(group)\n",
    "        print(f\"Request failed: {e}\")"
   ]
  },
  {
   "cell_type": "markdown",
   "id": "e40f627f-c96a-424c-9d18-05af030a09d0",
   "metadata": {},
   "source": [
    "## Validacion Base de datos"
   ]
  },
  {
   "cell_type": "code",
   "execution_count": null,
   "id": "3ab87812-67c7-4890-bcb5-0710573c1ae8",
   "metadata": {},
   "outputs": [],
   "source": [
    "#import sys\n",
    "#print(sys.executable)\n",
    "\n",
    "#!{sys.executable} -m pip show import sys\n",
    "\n",
    "import subprocess\n",
    "\n",
    "python_bin = sys.executable\n",
    "\n",
    "# Comando para instalar pip en el Python del kernel\n",
    "subprocess.run([python_bin, \"-m\", \"ensurepip\", \"--upgrade\"])\n",
    "subprocess.run([python_bin, \"-m\", \"pip\", \"install\", \"--upgrade\", \"pip\"])\n",
    "\n",
    "!{sys.executable} -m pip install psycopg2-binary"
   ]
  },
  {
   "cell_type": "code",
   "execution_count": 7,
   "id": "51b809c0-303a-4fc7-ab8d-49a4777e1a86",
   "metadata": {},
   "outputs": [
    {
     "name": "stdout",
     "output_type": "stream",
     "text": [
      "🔗 Configuración de conexión:\n",
      "host: 192.168.49.2\n",
      "port: 30543\n",
      "database: rawdata\n",
      "user: admin\n",
      "password: *****\n",
      "\n",
      "🧪 Probando conexión a PostgreSQL...\n",
      "❌ Error de conexión: connection to server at \"192.168.49.2\", port 30543 failed: Connection timed out\n",
      "\tIs the server running on that host and accepting TCP/IP connections?\n",
      "\n"
     ]
    }
   ],
   "source": [
    "# %%\n",
    "\"\"\"\n",
    "Validación básica de conexión PostgreSQL desde JupyterLab\n",
    "\"\"\"\n",
    "\n",
    "# %%\n",
    "import psycopg2\n",
    "from datetime import datetime\n",
    "\n",
    "# %%\n",
    "# Configuración de conexión PostgreSQL raw-data\n",
    "DB_CONFIG = {\n",
    "    'host': '192.168.49.2',  # IP de minikube\n",
    "    'port': '30543',         # NodePort\n",
    "    'database': 'rawdata',   # Nombre de la BD\n",
    "    'user': 'admin',         # Usuario\n",
    "    'password': 'admin'      # Contraseña\n",
    "}\n",
    "\n",
    "print(\"🔗 Configuración de conexión:\")\n",
    "for key, value in DB_CONFIG.items():\n",
    "    if key != 'password':\n",
    "        print(f\"{key}: {value}\")\n",
    "    else:\n",
    "        print(f\"{key}: {'*' * len(str(value))}\")\n",
    "\n",
    "# %%\n",
    "# Test de conexión\n",
    "print(\"\\n🧪 Probando conexión a PostgreSQL...\")\n",
    "try:\n",
    "    conn = psycopg2.connect(**DB_CONFIG)\n",
    "    cursor = conn.cursor()\n",
    "    \n",
    "    # Verificar conexión\n",
    "    cursor.execute(\"SELECT version();\")\n",
    "    version = cursor.fetchone()[0]\n",
    "    print(f\"✅ Conexión exitosa!\")\n",
    "    print(f\"📋 PostgreSQL: {version.split(',')[0]}\")\n",
    "    \n",
    "    # Información básica\n",
    "    cursor.execute(\"SELECT current_database(), current_user, current_timestamp;\")\n",
    "    db_info = cursor.fetchone()\n",
    "    print(f\"🗄️  Base de datos: {db_info[0]}\")\n",
    "    print(f\"👤 Usuario: {db_info[1]}\")\n",
    "    print(f\"🕐 Conectado en: {db_info[2]}\")\n",
    "    \n",
    "    cursor.close()\n",
    "    conn.close()\n",
    "    \n",
    "except Exception as e:\n",
    "    print(f\"❌ Error de conexión: {e}\")"
   ]
  },
  {
   "cell_type": "code",
   "execution_count": 11,
   "id": "13adf33d-7327-465b-9f9a-a52d4c57f0c0",
   "metadata": {},
   "outputs": [
    {
     "name": "stdout",
     "output_type": "stream",
     "text": [
      "Error al conectar: connection to server at \"10.43.101.166\", port 30543 failed: Connection refused\n",
      "\tIs the server running on that host and accepting TCP/IP connections?\n",
      "\n"
     ]
    }
   ],
   "source": [
    "import psycopg2\n",
    "\n",
    "DB_CONFIG = {\n",
    "    'host': '10.43.101.166',\n",
    "    'port': 30543,\n",
    "    'database': 'rawdata',\n",
    "    'user': 'admin',\n",
    "    'password': 'admin'\n",
    "}\n",
    "\n",
    "try:\n",
    "    conn = psycopg2.connect(**DB_CONFIG)\n",
    "    print(\"Conexión exitosa a PostgreSQL\")\n",
    "    conn.close()\n",
    "except Exception as e:\n",
    "    print(f\"Error al conectar: {e}\")\n"
   ]
  },
  {
   "cell_type": "code",
   "execution_count": 18,
   "id": "df8e8bd5-908b-42a2-8833-2bc9310de8a7",
   "metadata": {},
   "outputs": [
    {
     "name": "stdout",
     "output_type": "stream",
     "text": [
      "Conexión exitosa a PostgreSQL\n"
     ]
    }
   ],
   "source": [
    "import psycopg2\n",
    "\n",
    "DB_CONFIG = {\n",
    "    'host': '10.43.101.166',  # IP donde corre socat\n",
    "    'port': 5433,             # Puerto donde socat escucha\n",
    "    'database': 'rawdata',\n",
    "    'user': 'admin',\n",
    "    'password': 'admin'\n",
    "}\n",
    "\n",
    "try:\n",
    "    conn = psycopg2.connect(**DB_CONFIG)\n",
    "    print(\"Conexión exitosa a PostgreSQL\")\n",
    "    conn.close()\n",
    "except Exception as e:\n",
    "    print(f\"Error al conectar: {e}\")"
   ]
  }
 ],
 "metadata": {
  "kernelspec": {
   "display_name": "Python 3 (ipykernel)",
   "language": "python",
   "name": "python3"
  },
  "language_info": {
   "codemirror_mode": {
    "name": "ipython",
    "version": 3
   },
   "file_extension": ".py",
   "mimetype": "text/x-python",
   "name": "python",
   "nbconvert_exporter": "python",
   "pygments_lexer": "ipython3",
   "version": "3.12.10"
  }
 },
 "nbformat": 4,
 "nbformat_minor": 5
}
