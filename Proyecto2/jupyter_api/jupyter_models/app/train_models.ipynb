{
 "cells": [
  {
   "cell_type": "markdown",
   "id": "e53f0c0f-58fa-44be-a600-c339da3e909f",
   "metadata": {},
   "source": [
    "## Instalar dependencias y definir esquema"
   ]
  },
  {
   "cell_type": "code",
   "execution_count": 1,
   "id": "b9bba004-c2be-489f-837c-a01e4cd644b0",
   "metadata": {
    "editable": true,
    "slideshow": {
     "slide_type": ""
    },
    "tags": []
   },
   "outputs": [],
   "source": [
    "#importar modulos\n",
    "import pandas as pd\n",
    "import numpy as np\n",
    "import matplotlib.pyplot as plt\n",
    "import seaborn as sns\n",
    "from sklearn.preprocessing import LabelEncoder, Normalizer\n",
    "from sklearn.model_selection import train_test_split, GridSearchCV\n",
    "import joblib\n",
    "from sklearn import linear_model\n",
    "from sklearn.svm import SVC\n",
    "from sklearn.metrics import classification_report\n",
    "import mysql.connector\n",
    "\n",
    "#columnas numericas\n",
    "continuous = [\"culmen_length_mm\", \"culmen_depth_mm\",\n",
    "    \"flipper_length_mm\", \"body_mass_g\"]\n",
    "\n",
    "#columnas categoricas\n",
    "categorical = [\"species\",\"island\",\"sex\"]"
   ]
  },
  {
   "cell_type": "markdown",
   "id": "057c6009-0a97-493f-a127-1216d8a4af7d",
   "metadata": {},
   "source": [
    "## Crear Tablas"
   ]
  },
  {
   "cell_type": "code",
   "execution_count": 2,
   "id": "d605a36c-6543-4b8a-ac55-036608b7ec48",
   "metadata": {},
   "outputs": [],
   "source": [
    "#iniciar conexion con mysql\n",
    "conn = mysql.connector.connect(\n",
    "    #host=\"10.43.101.168\",       # e.g., \"localhost\" or your database server\n",
    "    host=\"10.43.101.166\",       # e.g., \"localhost\" or your database server\n",
    "    user=\"mlflow\",   # e.g., \"root\"\n",
    "    password=\"mlflow\",\n",
    "    database=\"mlflow\"\n",
    ")\n",
    "cursor = conn.cursor()\n",
    "\n",
    "#crear tablas de datos crudos y datos procesados\n",
    "cursor.execute(\"\"\"\n",
    "        CREATE TABLE IF NOT EXISTS penguins (\n",
    "            species VARCHAR(20),\n",
    "            island VARCHAR(20),\n",
    "            culmen_length_mm FLOAT,\n",
    "            culmen_depth_mm FLOAT,\n",
    "            flipper_length_mm FLOAT,\n",
    "            body_mass_g FLOAT,\n",
    "            sex VARCHAR(20)\n",
    "        )\n",
    "        \"\"\")\n",
    "\n",
    "cursor.execute(\"\"\"\n",
    "        CREATE TABLE IF NOT EXISTS penguins_proc (\n",
    "            species INTEGER,\n",
    "            island INTEGER,\n",
    "            culmen_length_mm FLOAT,\n",
    "            culmen_depth_mm FLOAT,\n",
    "            flipper_length_mm FLOAT,\n",
    "            body_mass_g FLOAT,\n",
    "            sex INTEGER\n",
    "        )\n",
    "        \"\"\")\n",
    "\n",
    "conn.commit()"
   ]
  },
  {
   "cell_type": "markdown",
   "id": "5951b9de-eda4-4b1c-8128-c7dcb0ff3467",
   "metadata": {},
   "source": [
    "## Cargar Datos Crudos a MySQL"
   ]
  },
  {
   "cell_type": "code",
   "execution_count": 3,
   "id": "74c17a98-f505-4c1f-9394-22011e3f536e",
   "metadata": {},
   "outputs": [
    {
     "data": {
      "text/html": [
       "<div>\n",
       "<style scoped>\n",
       "    .dataframe tbody tr th:only-of-type {\n",
       "        vertical-align: middle;\n",
       "    }\n",
       "\n",
       "    .dataframe tbody tr th {\n",
       "        vertical-align: top;\n",
       "    }\n",
       "\n",
       "    .dataframe thead th {\n",
       "        text-align: right;\n",
       "    }\n",
       "</style>\n",
       "<table border=\"1\" class=\"dataframe\">\n",
       "  <thead>\n",
       "    <tr style=\"text-align: right;\">\n",
       "      <th></th>\n",
       "      <th>species</th>\n",
       "      <th>island</th>\n",
       "      <th>culmen_length_mm</th>\n",
       "      <th>culmen_depth_mm</th>\n",
       "      <th>flipper_length_mm</th>\n",
       "      <th>body_mass_g</th>\n",
       "      <th>sex</th>\n",
       "    </tr>\n",
       "  </thead>\n",
       "  <tbody>\n",
       "    <tr>\n",
       "      <th>0</th>\n",
       "      <td>Adelie</td>\n",
       "      <td>Torgersen</td>\n",
       "      <td>39.1</td>\n",
       "      <td>18.7</td>\n",
       "      <td>181.0</td>\n",
       "      <td>3750.0</td>\n",
       "      <td>MALE</td>\n",
       "    </tr>\n",
       "    <tr>\n",
       "      <th>1</th>\n",
       "      <td>Adelie</td>\n",
       "      <td>Torgersen</td>\n",
       "      <td>39.5</td>\n",
       "      <td>17.4</td>\n",
       "      <td>186.0</td>\n",
       "      <td>3800.0</td>\n",
       "      <td>FEMALE</td>\n",
       "    </tr>\n",
       "    <tr>\n",
       "      <th>2</th>\n",
       "      <td>Adelie</td>\n",
       "      <td>Torgersen</td>\n",
       "      <td>40.3</td>\n",
       "      <td>18.0</td>\n",
       "      <td>195.0</td>\n",
       "      <td>3250.0</td>\n",
       "      <td>FEMALE</td>\n",
       "    </tr>\n",
       "    <tr>\n",
       "      <th>4</th>\n",
       "      <td>Adelie</td>\n",
       "      <td>Torgersen</td>\n",
       "      <td>36.7</td>\n",
       "      <td>19.3</td>\n",
       "      <td>193.0</td>\n",
       "      <td>3450.0</td>\n",
       "      <td>FEMALE</td>\n",
       "    </tr>\n",
       "    <tr>\n",
       "      <th>5</th>\n",
       "      <td>Adelie</td>\n",
       "      <td>Torgersen</td>\n",
       "      <td>39.3</td>\n",
       "      <td>20.6</td>\n",
       "      <td>190.0</td>\n",
       "      <td>3650.0</td>\n",
       "      <td>MALE</td>\n",
       "    </tr>\n",
       "  </tbody>\n",
       "</table>\n",
       "</div>"
      ],
      "text/plain": [
       "  species     island  culmen_length_mm  culmen_depth_mm  flipper_length_mm  \\\n",
       "0  Adelie  Torgersen              39.1             18.7              181.0   \n",
       "1  Adelie  Torgersen              39.5             17.4              186.0   \n",
       "2  Adelie  Torgersen              40.3             18.0              195.0   \n",
       "4  Adelie  Torgersen              36.7             19.3              193.0   \n",
       "5  Adelie  Torgersen              39.3             20.6              190.0   \n",
       "\n",
       "   body_mass_g     sex  \n",
       "0       3750.0    MALE  \n",
       "1       3800.0  FEMALE  \n",
       "2       3250.0  FEMALE  \n",
       "4       3450.0  FEMALE  \n",
       "5       3650.0    MALE  "
      ]
     },
     "execution_count": 3,
     "metadata": {},
     "output_type": "execute_result"
    }
   ],
   "source": [
    "#leer csv\n",
    "df = pd.read_csv(\"penguins_size.csv\").dropna()\n",
    "\n",
    "#crear query que inserta datos\n",
    "query = \"INSERT INTO penguins (species, island, culmen_length_mm, culmen_depth_mm, flipper_length_mm, body_mass_g,\tsex) \\\n",
    "    VALUES (%s, %s, %s, %s, %s, %s, %s)\"\n",
    "\n",
    "#almacenar datos en tuplas\n",
    "values = [tuple(row) for row in df.values]\n",
    "\n",
    "#insertar datos en mysql\n",
    "cursor.executemany(query, values)\n",
    "conn.commit()\n",
    "\n",
    "df.head()"
   ]
  },
  {
   "cell_type": "markdown",
   "id": "1d01a3b1-cc12-4f6a-85f9-3b0e796218d1",
   "metadata": {},
   "source": [
    "## Preprocesar datos"
   ]
  },
  {
   "cell_type": "code",
   "execution_count": 4,
   "id": "d92b7725-29bf-4278-8114-ef514ec30bd3",
   "metadata": {},
   "outputs": [
    {
     "data": {
      "text/html": [
       "<div>\n",
       "<style scoped>\n",
       "    .dataframe tbody tr th:only-of-type {\n",
       "        vertical-align: middle;\n",
       "    }\n",
       "\n",
       "    .dataframe tbody tr th {\n",
       "        vertical-align: top;\n",
       "    }\n",
       "\n",
       "    .dataframe thead th {\n",
       "        text-align: right;\n",
       "    }\n",
       "</style>\n",
       "<table border=\"1\" class=\"dataframe\">\n",
       "  <thead>\n",
       "    <tr style=\"text-align: right;\">\n",
       "      <th></th>\n",
       "      <th>species</th>\n",
       "      <th>island</th>\n",
       "      <th>culmen_length_mm</th>\n",
       "      <th>culmen_depth_mm</th>\n",
       "      <th>flipper_length_mm</th>\n",
       "      <th>body_mass_g</th>\n",
       "      <th>sex</th>\n",
       "    </tr>\n",
       "  </thead>\n",
       "  <tbody>\n",
       "    <tr>\n",
       "      <th>0</th>\n",
       "      <td>0</td>\n",
       "      <td>2</td>\n",
       "      <td>0.010414</td>\n",
       "      <td>0.004981</td>\n",
       "      <td>0.048207</td>\n",
       "      <td>0.998771</td>\n",
       "      <td>2</td>\n",
       "    </tr>\n",
       "    <tr>\n",
       "      <th>1</th>\n",
       "      <td>0</td>\n",
       "      <td>2</td>\n",
       "      <td>0.010382</td>\n",
       "      <td>0.004573</td>\n",
       "      <td>0.048886</td>\n",
       "      <td>0.99874</td>\n",
       "      <td>1</td>\n",
       "    </tr>\n",
       "    <tr>\n",
       "      <th>2</th>\n",
       "      <td>0</td>\n",
       "      <td>2</td>\n",
       "      <td>0.012377</td>\n",
       "      <td>0.005528</td>\n",
       "      <td>0.059887</td>\n",
       "      <td>0.998113</td>\n",
       "      <td>1</td>\n",
       "    </tr>\n",
       "    <tr>\n",
       "      <th>3</th>\n",
       "      <td>0</td>\n",
       "      <td>2</td>\n",
       "      <td>0.01062</td>\n",
       "      <td>0.005585</td>\n",
       "      <td>0.055851</td>\n",
       "      <td>0.998367</td>\n",
       "      <td>1</td>\n",
       "    </tr>\n",
       "    <tr>\n",
       "      <th>4</th>\n",
       "      <td>0</td>\n",
       "      <td>2</td>\n",
       "      <td>0.010752</td>\n",
       "      <td>0.005636</td>\n",
       "      <td>0.051981</td>\n",
       "      <td>0.998574</td>\n",
       "      <td>2</td>\n",
       "    </tr>\n",
       "  </tbody>\n",
       "</table>\n",
       "</div>"
      ],
      "text/plain": [
       "  species island culmen_length_mm culmen_depth_mm flipper_length_mm  \\\n",
       "0       0      2         0.010414        0.004981          0.048207   \n",
       "1       0      2         0.010382        0.004573          0.048886   \n",
       "2       0      2         0.012377        0.005528          0.059887   \n",
       "3       0      2          0.01062        0.005585          0.055851   \n",
       "4       0      2         0.010752        0.005636          0.051981   \n",
       "\n",
       "  body_mass_g sex  \n",
       "0    0.998771   2  \n",
       "1     0.99874   1  \n",
       "2    0.998113   1  \n",
       "3    0.998367   1  \n",
       "4    0.998574   2  "
      ]
     },
     "execution_count": 4,
     "metadata": {},
     "output_type": "execute_result"
    }
   ],
   "source": [
    "#cargar datos de mysql a un dataframe\n",
    "query = \"SELECT * FROM penguins\"\n",
    "cursor.execute(query)\n",
    "columns = [col[0] for col in cursor.description]\n",
    "df = pd.DataFrame(cursor.fetchall(), columns=columns)\n",
    "\n",
    "# Codificar variables categoricas\n",
    "le = LabelEncoder()\n",
    "for variable in categorical:\n",
    "    df[variable] = le.fit_transform(df[variable])\n",
    "\n",
    "# Normalizar variables numericas\n",
    "scaler = Normalizer()\n",
    "df[continuous] = scaler.fit_transform(df[continuous])\n",
    "\n",
    "#convertir datos a tipo facil de convertir a mysql\n",
    "df = df.astype(object)  \n",
    "\n",
    "#queyr para insertar datos\n",
    "query = \"INSERT INTO penguins_proc (species, island, culmen_length_mm, culmen_depth_mm, flipper_length_mm, body_mass_g, sex) \\\n",
    "VALUES (%s, %s, %s, %s, %s, %s, %s)\"\n",
    "\n",
    "#almacenar datos en tuplas\n",
    "values = [tuple(row) for row in df.values]\n",
    "\n",
    "#insertar datos en mysql\n",
    "cursor.executemany(query, values)\n",
    "conn.commit()\n",
    "\n",
    "df.head()\n"
   ]
  },
  {
   "cell_type": "markdown",
   "id": "6ff75a19-ca64-4e6f-ac61-6fae0791bbe0",
   "metadata": {
    "jp-MarkdownHeadingCollapsed": true
   },
   "source": [
    "## Entrenamiento de Modelos"
   ]
  },
  {
   "cell_type": "code",
   "execution_count": 6,
   "id": "41054614-2fc9-46d4-b6eb-8c2cb5a17d0e",
   "metadata": {
    "editable": true,
    "slideshow": {
     "slide_type": ""
    },
    "tags": []
   },
   "outputs": [
    {
     "data": {
      "text/html": [
       "<div>\n",
       "<style scoped>\n",
       "    .dataframe tbody tr th:only-of-type {\n",
       "        vertical-align: middle;\n",
       "    }\n",
       "\n",
       "    .dataframe tbody tr th {\n",
       "        vertical-align: top;\n",
       "    }\n",
       "\n",
       "    .dataframe thead th {\n",
       "        text-align: right;\n",
       "    }\n",
       "</style>\n",
       "<table border=\"1\" class=\"dataframe\">\n",
       "  <thead>\n",
       "    <tr style=\"text-align: right;\">\n",
       "      <th></th>\n",
       "      <th>island</th>\n",
       "      <th>culmen_length_mm</th>\n",
       "      <th>culmen_depth_mm</th>\n",
       "      <th>flipper_length_mm</th>\n",
       "      <th>body_mass_g</th>\n",
       "      <th>sex</th>\n",
       "    </tr>\n",
       "  </thead>\n",
       "  <tbody>\n",
       "    <tr>\n",
       "      <th>18330</th>\n",
       "      <td>0</td>\n",
       "      <td>0.010021</td>\n",
       "      <td>0.003087</td>\n",
       "      <td>0.044820</td>\n",
       "      <td>0.998940</td>\n",
       "      <td>1</td>\n",
       "    </tr>\n",
       "    <tr>\n",
       "      <th>8863</th>\n",
       "      <td>1</td>\n",
       "      <td>0.012423</td>\n",
       "      <td>0.004579</td>\n",
       "      <td>0.049447</td>\n",
       "      <td>0.998689</td>\n",
       "      <td>2</td>\n",
       "    </tr>\n",
       "    <tr>\n",
       "      <th>7259</th>\n",
       "      <td>0</td>\n",
       "      <td>0.008923</td>\n",
       "      <td>0.002869</td>\n",
       "      <td>0.040954</td>\n",
       "      <td>0.999117</td>\n",
       "      <td>1</td>\n",
       "    </tr>\n",
       "    <tr>\n",
       "      <th>20163</th>\n",
       "      <td>2</td>\n",
       "      <td>0.011009</td>\n",
       "      <td>0.004493</td>\n",
       "      <td>0.052424</td>\n",
       "      <td>0.998554</td>\n",
       "      <td>2</td>\n",
       "    </tr>\n",
       "    <tr>\n",
       "      <th>8941</th>\n",
       "      <td>0</td>\n",
       "      <td>0.009091</td>\n",
       "      <td>0.002862</td>\n",
       "      <td>0.039966</td>\n",
       "      <td>0.999156</td>\n",
       "      <td>2</td>\n",
       "    </tr>\n",
       "  </tbody>\n",
       "</table>\n",
       "</div>"
      ],
      "text/plain": [
       "       island  culmen_length_mm  culmen_depth_mm  flipper_length_mm  \\\n",
       "18330       0          0.010021         0.003087           0.044820   \n",
       "8863        1          0.012423         0.004579           0.049447   \n",
       "7259        0          0.008923         0.002869           0.040954   \n",
       "20163       2          0.011009         0.004493           0.052424   \n",
       "8941        0          0.009091         0.002862           0.039966   \n",
       "\n",
       "       body_mass_g  sex  \n",
       "18330     0.998940    1  \n",
       "8863      0.998689    2  \n",
       "7259      0.999117    1  \n",
       "20163     0.998554    2  \n",
       "8941      0.999156    2  "
      ]
     },
     "execution_count": 6,
     "metadata": {},
     "output_type": "execute_result"
    }
   ],
   "source": [
    "#cargar datos procesados de mysql a dataframe\n",
    "query = \"SELECT * FROM penguins_proc\"\n",
    "cursor.execute(query)\n",
    "columns = [col[0] for col in cursor.description]\n",
    "df = pd.DataFrame(cursor.fetchall(), columns=columns)\n",
    "\n",
    "#separar etiqueta de descriptores\n",
    "y = df['species']\n",
    "X = df.drop(['species'], axis=1)\n",
    "\n",
    "# dividir datos entre train y test\n",
    "X_train, X_test,y_train, y_test = train_test_split(X,y , \n",
    "                               random_state=50,  \n",
    "                               test_size=0.30) \n",
    "\n",
    "X_train.head()"
   ]
  },
  {
   "cell_type": "code",
   "execution_count": 6,
   "id": "043aed32-6661-425a-af00-42cdf97b9341",
   "metadata": {},
   "outputs": [
    {
     "name": "stdout",
     "output_type": "stream",
     "text": [
      "Best Parameters: {'C': 100, 'gamma': 1}\n"
     ]
    }
   ],
   "source": [
    "# definir malla de hiperparametros\n",
    "param_grid = {\n",
    "    'C': [0.1, 1, 10, 100],\n",
    "    'gamma': ['scale', 'auto', 0.01, 0.1, 1],\n",
    "}\n",
    "\n",
    "# inicializar svm\n",
    "svm = SVC()\n",
    "\n",
    "# buscar hiperparametros mas optimos\n",
    "grid_search = GridSearchCV(svm, param_grid, cv=5, scoring='accuracy', n_jobs=-1)\n",
    "grid_search.fit(X_train, y_train)\n",
    "\n",
    "# mejor modelo\n",
    "model = grid_search.best_estimator_\n",
    "\n",
    "# resultado\n",
    "print(\"Best Parameters:\", grid_search.best_params_)"
   ]
  },
  {
   "cell_type": "markdown",
   "id": "586e6fe0-c3ed-41d3-92be-206100171c1f",
   "metadata": {},
   "source": [
    "## Entrenamiento de Modelos MLflow"
   ]
  },
  {
   "cell_type": "code",
   "execution_count": 5,
   "id": "5f0f8545-bb7d-4749-9e23-e31b3d95edbc",
   "metadata": {},
   "outputs": [
    {
     "name": "stderr",
     "output_type": "stream",
     "text": [
      "/src/train_models/.venv/lib/python3.12/site-packages/mlflow/protos/service_pb2.py:11: UserWarning: google.protobuf.service module is deprecated. RPC implementations should provide code generator plugins which generate code specific to the RPC implementation. service.py will be removed in Jan 2025\n",
      "  from google.protobuf import service as _service\n"
     ]
    }
   ],
   "source": [
    "import mlflow\n",
    "\n",
    "from sklearn.model_selection import train_test_split\n",
    "from sklearn.model_selection import GridSearchCV\n",
    "\n",
    "import os\n",
    "os.environ['MLFLOW_S3_ENDPOINT_URL'] = \"http://10.43.101.166:9000\"\n",
    "os.environ['AWS_ACCESS_KEY_ID'] = 'admin'\n",
    "os.environ['AWS_SECRET_ACCESS_KEY'] = 'supersecret'\n",
    "\n",
    "#cargar datos procesados de mysql a dataframe\n",
    "query = \"SELECT * FROM penguins_proc\"\n",
    "cursor.execute(query)\n",
    "columns = [col[0] for col in cursor.description]\n",
    "df = pd.DataFrame(cursor.fetchall(), columns=columns)\n",
    "\n",
    "#separar etiqueta de descriptores\n",
    "y = df['species']\n",
    "X = df.drop(['species'], axis=1)\n",
    "\n",
    "# dividir datos entre train y test\n",
    "X_train, X_test,y_train, y_test = train_test_split(X,y , \n",
    "                               random_state=50,  \n",
    "                               test_size=0.30)\n",
    "\n"
   ]
  },
  {
   "cell_type": "code",
   "execution_count": 51,
   "id": "e881ccd8-c222-4546-9d1e-bb97ae1ebc43",
   "metadata": {},
   "outputs": [],
   "source": [
    "import boto3\n",
    "from sklearn.model_selection import GridSearchCV"
   ]
  },
  {
   "cell_type": "code",
   "execution_count": 6,
   "id": "5462d9bf-265d-4f7a-a4eb-85c82fec87e2",
   "metadata": {},
   "outputs": [
    {
     "name": "stderr",
     "output_type": "stream",
     "text": [
      "2025/03/18 05:20:21 WARNING mlflow.utils.autologging_utils: You are using an unsupported version of sklearn. If you encounter errors during autologging, try upgrading / downgrading sklearn to a supported version, or try upgrading MLflow.\n",
      "2025/03/18 05:20:25 INFO mlflow.tracking.fluent: Autologging successfully enabled for sklearn.\n",
      "2025/03/18 05:20:26 WARNING mlflow.utils.autologging_utils: MLflow autologging encountered a warning: \"/src/train_models/.venv/lib/python3.12/site-packages/mlflow/data/digest_utils.py:26: FutureWarning: DataFrame.applymap has been deprecated. Use DataFrame.map instead.\"\n",
      "2025/03/18 05:20:26 WARNING mlflow.utils.autologging_utils: MLflow autologging encountered a warning: \"/src/train_models/.venv/lib/python3.12/site-packages/mlflow/types/utils.py:394: UserWarning: Hint: Inferred schema contains integer column(s). Integer columns in Python cannot represent missing values. If your input data contains missing values at inference time, it will be encoded as floats and will cause a schema enforcement error. The best way to avoid this problem is to infer the model schema based on a realistic data sample (training dataset) that includes missing values. Alternatively, you can declare integer columns as doubles (float64) whenever these columns may have missing values. See `Handling Integers With Missing Values <https://www.mlflow.org/docs/latest/models.html#handling-integers-with-missing-values>`_ for more details.\"\n",
      "2025/03/18 05:26:18 WARNING mlflow.utils.autologging_utils: MLflow autologging encountered a warning: \"/src/train_models/.venv/lib/python3.12/site-packages/mlflow/types/utils.py:394: UserWarning: Hint: Inferred schema contains integer column(s). Integer columns in Python cannot represent missing values. If your input data contains missing values at inference time, it will be encoded as floats and will cause a schema enforcement error. The best way to avoid this problem is to infer the model schema based on a realistic data sample (training dataset) that includes missing values. Alternatively, you can declare integer columns as doubles (float64) whenever these columns may have missing values. See `Handling Integers With Missing Values <https://www.mlflow.org/docs/latest/models.html#handling-integers-with-missing-values>`_ for more details.\"\n",
      "2025/03/18 05:26:24 WARNING mlflow.utils.environment: Failed to resolve installed pip version. ``pip`` will be added to conda.yaml environment spec without a version specifier.\n",
      "2025/03/18 05:26:28 WARNING mlflow.utils.environment: Failed to resolve installed pip version. ``pip`` will be added to conda.yaml environment spec without a version specifier.\n",
      "2025/03/18 05:26:28 INFO mlflow.sklearn.utils: Logging the 5 best runs, 15 runs will be omitted.\n",
      "2025/03/18 05:26:33 WARNING mlflow.utils.environment: Failed to resolve installed pip version. ``pip`` will be added to conda.yaml environment spec without a version specifier.\n",
      "Successfully registered model 'svm-model'.\n",
      "2025/03/18 05:26:33 INFO mlflow.store.model_registry.abstract_store: Waiting up to 300 seconds for model version to finish creation. Model name: svm-model, version 1\n"
     ]
    },
    {
     "name": "stdout",
     "output_type": "stream",
     "text": [
      "tracking uri: http://10.43.101.166:5000\n",
      "artifact uri: s3://mlflows3/artifacts/2/76f641d3b69f41dcb7d1f8018aea6e06/artifacts\n"
     ]
    },
    {
     "name": "stderr",
     "output_type": "stream",
     "text": [
      "Created version '1' of model 'svm-model'.\n"
     ]
    }
   ],
   "source": [
    "# connect to mlflow\n",
    "mlflow.set_tracking_uri(\"http://10.43.101.166:5000\")\n",
    "mlflow.set_experiment(\"mlflow_tracking_examples\")\n",
    "\n",
    "mlflow.autolog(log_model_signatures=True, log_input_examples=True)\n",
    "\n",
    "with mlflow.start_run(run_name=\"svm_artifacts\") as run:\n",
    "    params = {\n",
    "    'C': [0.1, 1, 10, 100],\n",
    "    'gamma': ['scale', 'auto', 0.01, 0.1, 1],\n",
    "}\n",
    "\n",
    "    # inicializar svm\n",
    "    svm = SVC()\n",
    "\n",
    "    # buscar hiperparametros mas optimos\n",
    "    grid_search = GridSearchCV(svm, params, cv=5, scoring='accuracy', n_jobs=-1)\n",
    "    grid_search.fit(X_train, y_train)\n",
    "\n",
    "    mlflow.log_params(params)\n",
    "    mlflow.set_tag(\"column_names\", \",\".join(columns))\n",
    "    mlflow.sklearn.log_model(\n",
    "      sk_model=grid_search,\n",
    "      artifact_path=\"svm\",\n",
    "        registered_model_name=\"svm-model\"\n",
    "    )\n",
    "\n",
    "print('tracking uri:', mlflow.get_tracking_uri())\n",
    "print('artifact uri:', mlflow.get_artifact_uri())"
   ]
  },
  {
   "cell_type": "code",
   "execution_count": 7,
   "id": "5efb502c-b138-4494-a204-37c055356e3a",
   "metadata": {},
   "outputs": [
    {
     "name": "stderr",
     "output_type": "stream",
     "text": [
      "2025/03/18 05:26:37 WARNING mlflow.utils.autologging_utils: MLflow autologging encountered a warning: \"/src/train_models/.venv/lib/python3.12/site-packages/mlflow/data/digest_utils.py:26: FutureWarning: DataFrame.applymap has been deprecated. Use DataFrame.map instead.\"\n",
      "2025/03/18 05:26:37 WARNING mlflow.utils.autologging_utils: MLflow autologging encountered a warning: \"/src/train_models/.venv/lib/python3.12/site-packages/mlflow/types/utils.py:394: UserWarning: Hint: Inferred schema contains integer column(s). Integer columns in Python cannot represent missing values. If your input data contains missing values at inference time, it will be encoded as floats and will cause a schema enforcement error. The best way to avoid this problem is to infer the model schema based on a realistic data sample (training dataset) that includes missing values. Alternatively, you can declare integer columns as doubles (float64) whenever these columns may have missing values. See `Handling Integers With Missing Values <https://www.mlflow.org/docs/latest/models.html#handling-integers-with-missing-values>`_ for more details.\"\n"
     ]
    },
    {
     "name": "stdout",
     "output_type": "stream",
     "text": [
      "[2 2 0 ... 0 1 1]\n"
     ]
    },
    {
     "name": "stderr",
     "output_type": "stream",
     "text": [
      "2025/03/18 05:26:41 WARNING mlflow.utils.autologging_utils: MLflow autologging encountered a warning: \"/src/train_models/.venv/lib/python3.12/site-packages/mlflow/data/digest_utils.py:26: FutureWarning: DataFrame.applymap has been deprecated. Use DataFrame.map instead.\"\n",
      "2025/03/18 05:26:41 WARNING mlflow.utils.autologging_utils: MLflow autologging encountered a warning: \"/src/train_models/.venv/lib/python3.12/site-packages/mlflow/types/utils.py:394: UserWarning: Hint: Inferred schema contains integer column(s). Integer columns in Python cannot represent missing values. If your input data contains missing values at inference time, it will be encoded as floats and will cause a schema enforcement error. The best way to avoid this problem is to infer the model schema based on a realistic data sample (training dataset) that includes missing values. Alternatively, you can declare integer columns as doubles (float64) whenever these columns may have missing values. See `Handling Integers With Missing Values <https://www.mlflow.org/docs/latest/models.html#handling-integers-with-missing-values>`_ for more details.\"\n"
     ]
    },
    {
     "name": "stdout",
     "output_type": "stream",
     "text": [
      "[2 2 0 ... 0 1 1]\n"
     ]
    }
   ],
   "source": [
    "import mlflow.pyfunc\n",
    "\n",
    "model_name = \"svm-model\"\n",
    "model_version = 1\n",
    "\n",
    "model = mlflow.pyfunc.load_model(\n",
    "    model_uri=f\"models:/{model_name}/{model_version}\"\n",
    ")\n",
    "\n",
    "y_pred = model.predict(X_test)\n",
    "print(y_pred)\n",
    "\n",
    "sklearn_model = mlflow.sklearn.load_model(\n",
    "    model_uri=f\"models:/{model_name}/{model_version}\"\n",
    ")\n",
    "y_pred_prob = sklearn_model.predict(X_test)\n",
    "print(y_pred_prob)"
   ]
  },
  {
   "cell_type": "code",
   "execution_count": 10,
   "id": "d5d0aa3a-d395-4d56-9043-2b74a07b6271",
   "metadata": {},
   "outputs": [
    {
     "name": "stderr",
     "output_type": "stream",
     "text": [
      "/tmp/ipykernel_79/1699402861.py:5: FutureWarning: ``mlflow.tracking.client.MlflowClient.transition_model_version_stage`` is deprecated since 2.9.0. Model registry stages will be removed in a future major release. To learn more about the deprecation of model registry stages, see our migration guide here: https://mlflow.org/docs/2.12.1/model-registry.html#migrating-from-stages\n",
      "  client.transition_model_version_stage(\n"
     ]
    },
    {
     "data": {
      "text/plain": [
       "<ModelVersion: aliases=[], creation_timestamp=1742275593382, current_stage='Production', description='', last_updated_timestamp=1742275749773, name='svm-model', run_id='5a0b57a77ebd496b898334e0639cec49', run_link='', source='s3://mlflows3/artifacts/2/5a0b57a77ebd496b898334e0639cec49/artifacts/svm', status='READY', status_message='', tags={}, user_id='', version='1'>"
      ]
     },
     "execution_count": 10,
     "metadata": {},
     "output_type": "execute_result"
    }
   ],
   "source": [
    "model_name = \"svm-model\"\n",
    "model_version = 1\n",
    "\n",
    "client = mlflow.tracking.MlflowClient()\n",
    "client.transition_model_version_stage(\n",
    "    name=model_name,\n",
    "    version=model_version,\n",
    "    stage=\"Production\"\n",
    ")"
   ]
  },
  {
   "cell_type": "code",
   "execution_count": 31,
   "id": "2672deea-420f-4f40-97cc-1e7aee3e36c1",
   "metadata": {},
   "outputs": [
    {
     "data": {
      "text/plain": [
       "mlflow.pyfunc.loaded_model:\n",
       "  artifact_path: svm\n",
       "  flavor: mlflow.sklearn\n",
       "  run_id: 5a0b57a77ebd496b898334e0639cec49"
      ]
     },
     "execution_count": 31,
     "metadata": {},
     "output_type": "execute_result"
    }
   ],
   "source": [
    "import mlflow.pyfunc\n",
    "\n",
    "model_name = \"svm-model\"\n",
    "stage = 'Production'\n",
    "\n",
    "model = mlflow.pyfunc.load_model(\n",
    "    model_uri=f\"models:/{model_name}/{stage}\"\n",
    ")\n",
    "\n",
    "model\n",
    "#y_pred = model.predict(X_test)\n",
    "#print(y_pred)"
   ]
  },
  {
   "cell_type": "code",
   "execution_count": 12,
   "id": "4d1b1221-9a32-4506-bb52-1b2c48570ed0",
   "metadata": {},
   "outputs": [],
   "source": [
    "mlflow.set_tracking_uri(\"http://10.43.101.166:5000\")"
   ]
  },
  {
   "cell_type": "code",
   "execution_count": 26,
   "id": "897db261-1c03-434d-addb-f7479b885278",
   "metadata": {
    "scrolled": true
   },
   "outputs": [
    {
     "name": "stdout",
     "output_type": "stream",
     "text": [
      "svm-classifier\n",
      "svm-model\n"
     ]
    }
   ],
   "source": [
    "import mlflow\n",
    "\n",
    "client = mlflow.tracking.MlflowClient()\n",
    "\n",
    "# Listar modelos registrados en el Model Registry\n",
    "models = client.search_registered_models()\n",
    "#for model in models:\n",
    "#    print(model.name)\n"
   ]
  },
  {
   "cell_type": "code",
   "execution_count": null,
   "id": "c2d9d4e2-c3d2-4a8c-bb58-f01698bf24fd",
   "metadata": {},
   "outputs": [],
   "source": []
  },
  {
   "cell_type": "code",
   "execution_count": 27,
   "id": "f46c0181-5f93-4203-a93e-5ae3e1f37552",
   "metadata": {},
   "outputs": [
    {
     "data": {
      "text/plain": [
       "[<RegisteredModel: aliases={}, creation_timestamp=1742267100794, description='', last_updated_timestamp=1742273254904, latest_versions=[<ModelVersion: aliases=[], creation_timestamp=1742267100853, current_stage='Production', description='', last_updated_timestamp=1742273254904, name='svm-classifier', run_id='19c18a9aeb9b48959fe2e0b9e1608eab', run_link='', source='s3://mlflows3/artifacts/1/19c18a9aeb9b48959fe2e0b9e1608eab/artifacts/svm', status='READY', status_message='', tags={}, user_id='', version='1'>,\n",
       "  <ModelVersion: aliases=[], creation_timestamp=1742273249513, current_stage='None', description='', last_updated_timestamp=1742273249513, name='svm-classifier', run_id='62d6afe3d4df4c37b9c99ead32808735', run_link='', source='s3://mlflows3/artifacts/1/62d6afe3d4df4c37b9c99ead32808735/artifacts/svm', status='READY', status_message='', tags={}, user_id='', version='2'>], name='svm-classifier', tags={}>,\n",
       " <RegisteredModel: aliases={}, creation_timestamp=1742275593316, description='', last_updated_timestamp=1742275749773, latest_versions=[<ModelVersion: aliases=[], creation_timestamp=1742275593382, current_stage='Production', description='', last_updated_timestamp=1742275749773, name='svm-model', run_id='5a0b57a77ebd496b898334e0639cec49', run_link='', source='s3://mlflows3/artifacts/2/5a0b57a77ebd496b898334e0639cec49/artifacts/svm', status='READY', status_message='', tags={}, user_id='', version='1'>], name='svm-model', tags={}>]"
      ]
     },
     "execution_count": 27,
     "metadata": {},
     "output_type": "execute_result"
    }
   ],
   "source": [
    "models"
   ]
  },
  {
   "cell_type": "code",
   "execution_count": null,
   "id": "e2fb0cb6-5a77-475a-b342-97b0698060e4",
   "metadata": {},
   "outputs": [],
   "source": []
  },
  {
   "cell_type": "code",
   "execution_count": 21,
   "id": "c969737e-afaf-4785-940e-d6fc3c18e14b",
   "metadata": {},
   "outputs": [],
   "source": [
    "import mlflow\n",
    "\n",
    "# Obtener el experimento asociado al modelo\n",
    "experiment = mlflow.get_experiment_by_name(\"mlflow_tracking_examples\")\n",
    "\n",
    "# Cargar el último run asociado\n",
    "runs = mlflow.search_runs(experiment.experiment_id)\n",
    "last_run = runs.iloc[0]  # Último entrenamiento\n",
    "last_run = last_run[\"run_id\"]\n",
    "\n",
    "#client = mlflow.tracking.MlflowClient()\n",
    "#artifact_list = client.list_artifacts(last_run)\n",
    "#print([artifact.path for artifact in artifact_list])\n",
    "\n",
    "\n"
   ]
  },
  {
   "cell_type": "code",
   "execution_count": 24,
   "id": "8f68718e-c845-4fed-ab2c-0390ce56f95f",
   "metadata": {},
   "outputs": [],
   "source": [
    "tags = client.get_run(last_run).data.tags"
   ]
  },
  {
   "cell_type": "code",
   "execution_count": 25,
   "id": "42d7d389-f441-4b06-b498-90619992aa16",
   "metadata": {},
   "outputs": [
    {
     "data": {
      "text/plain": [
       "{'mlflow.user': 'root',\n",
       " 'mlflow.source.name': '/root/.cache/uv/archive-v0/mghnIJEArs6n84e_0uBfr/lib/python3.12/site-packages/ipykernel_launcher.py',\n",
       " 'mlflow.source.type': 'LOCAL',\n",
       " 'mlflow.runName': 'marvelous-stork-271'}"
      ]
     },
     "execution_count": 25,
     "metadata": {},
     "output_type": "execute_result"
    }
   ],
   "source": [
    "tags"
   ]
  },
  {
   "cell_type": "code",
   "execution_count": null,
   "id": "c0d5c100-370b-49d0-a0ac-529c6541ddb1",
   "metadata": {},
   "outputs": [],
   "source": []
  },
  {
   "cell_type": "code",
   "execution_count": null,
   "id": "b5d04be2-2764-4f9d-ab94-2f51602baa31",
   "metadata": {},
   "outputs": [],
   "source": []
  },
  {
   "cell_type": "code",
   "execution_count": 52,
   "id": "cadc0df9-c519-4ee8-8ace-291e131d944e",
   "metadata": {},
   "outputs": [
    {
     "name": "stdout",
     "output_type": "stream",
     "text": [
      "✅ Archivo descargado en: models/model.pkl\n"
     ]
    }
   ],
   "source": [
    "import boto3\n",
    "\n",
    "# Configuración de MinIO\n",
    "minio_endpoint = \"http://10.43.101.166:9000\"  # Ajusta si está en otro servidor\n",
    "access_key = \"admin\"\n",
    "secret_key = \"supersecret\"\n",
    "bucket_name = \"mlflows3\"\n",
    "object_key = \"artifacts/1/e5b9a57d50534be9bd5ae97f5390da60/artifacts/best_estimator/model.pkl\"\n",
    "local_file_path = \"models/model.pkl\"\n",
    "\n",
    "# Crear cliente MinIO\n",
    "s3_client = boto3.client(\n",
    "    \"s3\",\n",
    "    endpoint_url=minio_endpoint,\n",
    "    aws_access_key_id=access_key,\n",
    "    aws_secret_access_key=secret_key\n",
    ")\n",
    "\n",
    "# Descargar el archivo\n",
    "s3_client.download_file(bucket_name, object_key, local_file_path)\n",
    "print(f\"✅ Archivo descargado en: {local_file_path}\")\n"
   ]
  },
  {
   "cell_type": "code",
   "execution_count": null,
   "id": "10fe60cc-24aa-4339-b2b5-12e106d28b33",
   "metadata": {},
   "outputs": [],
   "source": []
  },
  {
   "cell_type": "markdown",
   "id": "927619fd-79b3-48de-8b4e-3cf4729359f3",
   "metadata": {
    "jp-MarkdownHeadingCollapsed": true
   },
   "source": [
    "## Registro de modelos"
   ]
  },
  {
   "cell_type": "markdown",
   "id": "b895e8ca-c3ad-44d7-9251-6d9936b0377d",
   "metadata": {},
   "source": [
    "## Borrar Tablas"
   ]
  },
  {
   "cell_type": "code",
   "execution_count": 30,
   "id": "eb02c04d-87b2-40a0-9142-79e3a9cb57e2",
   "metadata": {},
   "outputs": [],
   "source": [
    "query = \"DROP TABLE IF EXISTS penguins\"\n",
    "cursor.execute(query)\n",
    "\n",
    "query = \"DROP TABLE IF EXISTS penguins_proc\"\n",
    "cursor.execute(query)\n",
    "\n",
    "conn.commit()\n",
    "\n",
    "cursor.close()\n",
    "conn.close()"
   ]
  }
 ],
 "metadata": {
  "kernelspec": {
   "display_name": "Python 3 (ipykernel)",
   "language": "python",
   "name": "python3"
  },
  "language_info": {
   "codemirror_mode": {
    "name": "ipython",
    "version": 3
   },
   "file_extension": ".py",
   "mimetype": "text/x-python",
   "name": "python",
   "nbconvert_exporter": "python",
   "pygments_lexer": "ipython3",
   "version": "3.12.9"
  }
 },
 "nbformat": 4,
 "nbformat_minor": 5
}
