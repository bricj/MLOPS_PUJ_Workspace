{
 "cells": [
  {
   "cell_type": "markdown",
   "id": "e53f0c0f-58fa-44be-a600-c339da3e909f",
   "metadata": {},
   "source": [
    "## Instalar dependencias y definir esquema"
   ]
  },
  {
   "cell_type": "code",
   "execution_count": 1,
   "id": "b9bba004-c2be-489f-837c-a01e4cd644b0",
   "metadata": {
    "editable": true,
    "slideshow": {
     "slide_type": ""
    },
    "tags": []
   },
   "outputs": [],
   "source": [
    "#importar modulos\n",
    "import pandas as pd\n",
    "import numpy as np\n",
    "import matplotlib.pyplot as plt\n",
    "import seaborn as sns\n",
    "from sklearn.preprocessing import LabelEncoder, Normalizer\n",
    "from sklearn.model_selection import train_test_split, GridSearchCV\n",
    "import joblib\n",
    "from sklearn import linear_model\n",
    "from sklearn.svm import SVC\n",
    "from sklearn.metrics import classification_report\n",
    "import mysql.connector\n",
    "\n",
    "#columnas numericas\n",
    "continuous = [\"culmen_length_mm\", \"culmen_depth_mm\",\n",
    "    \"flipper_length_mm\", \"body_mass_g\"]\n",
    "\n",
    "#columnas categoricas\n",
    "categorical = [\"species\",\"island\",\"sex\"]"
   ]
  },
  {
   "cell_type": "markdown",
   "id": "057c6009-0a97-493f-a127-1216d8a4af7d",
   "metadata": {},
   "source": [
    "## Crear Tablas"
   ]
  },
  {
   "cell_type": "code",
   "execution_count": 2,
   "id": "d605a36c-6543-4b8a-ac55-036608b7ec48",
   "metadata": {},
   "outputs": [],
   "source": [
    "#iniciar conexion con mysql\n",
    "conn = mysql.connector.connect(\n",
    "    #host=\"10.43.101.168\",       # e.g., \"localhost\" or your database server\n",
    "    host=\"10.43.101.166\",       # e.g., \"localhost\" or your database server\n",
    "    user=\"mlflow\",   # e.g., \"root\"\n",
    "    password=\"mlflow\",\n",
    "    database=\"mlflow\"\n",
    ")\n",
    "cursor = conn.cursor()\n",
    "\n",
    "#crear tablas de datos crudos y datos procesados\n",
    "cursor.execute(\"\"\"\n",
    "        CREATE TABLE IF NOT EXISTS penguins (\n",
    "            species VARCHAR(20),\n",
    "            island VARCHAR(20),\n",
    "            culmen_length_mm FLOAT,\n",
    "            culmen_depth_mm FLOAT,\n",
    "            flipper_length_mm FLOAT,\n",
    "            body_mass_g FLOAT,\n",
    "            sex VARCHAR(20)\n",
    "        )\n",
    "        \"\"\")\n",
    "\n",
    "cursor.execute(\"\"\"\n",
    "        CREATE TABLE IF NOT EXISTS penguins_proc (\n",
    "            species INTEGER,\n",
    "            island INTEGER,\n",
    "            culmen_length_mm FLOAT,\n",
    "            culmen_depth_mm FLOAT,\n",
    "            flipper_length_mm FLOAT,\n",
    "            body_mass_g FLOAT,\n",
    "            sex INTEGER\n",
    "        )\n",
    "        \"\"\")\n",
    "\n",
    "conn.commit()"
   ]
  },
  {
   "cell_type": "markdown",
   "id": "5951b9de-eda4-4b1c-8128-c7dcb0ff3467",
   "metadata": {},
   "source": [
    "## Cargar Datos Crudos a MySQL"
   ]
  },
  {
   "cell_type": "code",
   "execution_count": 3,
   "id": "74c17a98-f505-4c1f-9394-22011e3f536e",
   "metadata": {},
   "outputs": [
    {
     "data": {
      "text/html": [
       "<div>\n",
       "<style scoped>\n",
       "    .dataframe tbody tr th:only-of-type {\n",
       "        vertical-align: middle;\n",
       "    }\n",
       "\n",
       "    .dataframe tbody tr th {\n",
       "        vertical-align: top;\n",
       "    }\n",
       "\n",
       "    .dataframe thead th {\n",
       "        text-align: right;\n",
       "    }\n",
       "</style>\n",
       "<table border=\"1\" class=\"dataframe\">\n",
       "  <thead>\n",
       "    <tr style=\"text-align: right;\">\n",
       "      <th></th>\n",
       "      <th>species</th>\n",
       "      <th>island</th>\n",
       "      <th>culmen_length_mm</th>\n",
       "      <th>culmen_depth_mm</th>\n",
       "      <th>flipper_length_mm</th>\n",
       "      <th>body_mass_g</th>\n",
       "      <th>sex</th>\n",
       "    </tr>\n",
       "  </thead>\n",
       "  <tbody>\n",
       "    <tr>\n",
       "      <th>0</th>\n",
       "      <td>Adelie</td>\n",
       "      <td>Torgersen</td>\n",
       "      <td>39.1</td>\n",
       "      <td>18.7</td>\n",
       "      <td>181.0</td>\n",
       "      <td>3750.0</td>\n",
       "      <td>MALE</td>\n",
       "    </tr>\n",
       "    <tr>\n",
       "      <th>1</th>\n",
       "      <td>Adelie</td>\n",
       "      <td>Torgersen</td>\n",
       "      <td>39.5</td>\n",
       "      <td>17.4</td>\n",
       "      <td>186.0</td>\n",
       "      <td>3800.0</td>\n",
       "      <td>FEMALE</td>\n",
       "    </tr>\n",
       "    <tr>\n",
       "      <th>2</th>\n",
       "      <td>Adelie</td>\n",
       "      <td>Torgersen</td>\n",
       "      <td>40.3</td>\n",
       "      <td>18.0</td>\n",
       "      <td>195.0</td>\n",
       "      <td>3250.0</td>\n",
       "      <td>FEMALE</td>\n",
       "    </tr>\n",
       "    <tr>\n",
       "      <th>4</th>\n",
       "      <td>Adelie</td>\n",
       "      <td>Torgersen</td>\n",
       "      <td>36.7</td>\n",
       "      <td>19.3</td>\n",
       "      <td>193.0</td>\n",
       "      <td>3450.0</td>\n",
       "      <td>FEMALE</td>\n",
       "    </tr>\n",
       "    <tr>\n",
       "      <th>5</th>\n",
       "      <td>Adelie</td>\n",
       "      <td>Torgersen</td>\n",
       "      <td>39.3</td>\n",
       "      <td>20.6</td>\n",
       "      <td>190.0</td>\n",
       "      <td>3650.0</td>\n",
       "      <td>MALE</td>\n",
       "    </tr>\n",
       "  </tbody>\n",
       "</table>\n",
       "</div>"
      ],
      "text/plain": [
       "  species     island  culmen_length_mm  culmen_depth_mm  flipper_length_mm  \\\n",
       "0  Adelie  Torgersen              39.1             18.7              181.0   \n",
       "1  Adelie  Torgersen              39.5             17.4              186.0   \n",
       "2  Adelie  Torgersen              40.3             18.0              195.0   \n",
       "4  Adelie  Torgersen              36.7             19.3              193.0   \n",
       "5  Adelie  Torgersen              39.3             20.6              190.0   \n",
       "\n",
       "   body_mass_g     sex  \n",
       "0       3750.0    MALE  \n",
       "1       3800.0  FEMALE  \n",
       "2       3250.0  FEMALE  \n",
       "4       3450.0  FEMALE  \n",
       "5       3650.0    MALE  "
      ]
     },
     "execution_count": 3,
     "metadata": {},
     "output_type": "execute_result"
    }
   ],
   "source": [
    "#leer csv\n",
    "df = pd.read_csv(\"penguins_size.csv\").dropna()\n",
    "\n",
    "#crear query que inserta datos\n",
    "query = \"INSERT INTO penguins (species, island, culmen_length_mm, culmen_depth_mm, flipper_length_mm, body_mass_g,\tsex) \\\n",
    "    VALUES (%s, %s, %s, %s, %s, %s, %s)\"\n",
    "\n",
    "#almacenar datos en tuplas\n",
    "values = [tuple(row) for row in df.values]\n",
    "\n",
    "#insertar datos en mysql\n",
    "cursor.executemany(query, values)\n",
    "conn.commit()\n",
    "\n",
    "df.head()"
   ]
  },
  {
   "cell_type": "markdown",
   "id": "1d01a3b1-cc12-4f6a-85f9-3b0e796218d1",
   "metadata": {},
   "source": [
    "## Preprocesar datos"
   ]
  },
  {
   "cell_type": "code",
   "execution_count": 4,
   "id": "d92b7725-29bf-4278-8114-ef514ec30bd3",
   "metadata": {},
   "outputs": [
    {
     "data": {
      "text/html": [
       "<div>\n",
       "<style scoped>\n",
       "    .dataframe tbody tr th:only-of-type {\n",
       "        vertical-align: middle;\n",
       "    }\n",
       "\n",
       "    .dataframe tbody tr th {\n",
       "        vertical-align: top;\n",
       "    }\n",
       "\n",
       "    .dataframe thead th {\n",
       "        text-align: right;\n",
       "    }\n",
       "</style>\n",
       "<table border=\"1\" class=\"dataframe\">\n",
       "  <thead>\n",
       "    <tr style=\"text-align: right;\">\n",
       "      <th></th>\n",
       "      <th>species</th>\n",
       "      <th>island</th>\n",
       "      <th>culmen_length_mm</th>\n",
       "      <th>culmen_depth_mm</th>\n",
       "      <th>flipper_length_mm</th>\n",
       "      <th>body_mass_g</th>\n",
       "      <th>sex</th>\n",
       "    </tr>\n",
       "  </thead>\n",
       "  <tbody>\n",
       "    <tr>\n",
       "      <th>0</th>\n",
       "      <td>0</td>\n",
       "      <td>2</td>\n",
       "      <td>0.010414</td>\n",
       "      <td>0.004981</td>\n",
       "      <td>0.048207</td>\n",
       "      <td>0.998771</td>\n",
       "      <td>2</td>\n",
       "    </tr>\n",
       "    <tr>\n",
       "      <th>1</th>\n",
       "      <td>0</td>\n",
       "      <td>2</td>\n",
       "      <td>0.010382</td>\n",
       "      <td>0.004573</td>\n",
       "      <td>0.048886</td>\n",
       "      <td>0.99874</td>\n",
       "      <td>1</td>\n",
       "    </tr>\n",
       "    <tr>\n",
       "      <th>2</th>\n",
       "      <td>0</td>\n",
       "      <td>2</td>\n",
       "      <td>0.012377</td>\n",
       "      <td>0.005528</td>\n",
       "      <td>0.059887</td>\n",
       "      <td>0.998113</td>\n",
       "      <td>1</td>\n",
       "    </tr>\n",
       "    <tr>\n",
       "      <th>3</th>\n",
       "      <td>0</td>\n",
       "      <td>2</td>\n",
       "      <td>0.01062</td>\n",
       "      <td>0.005585</td>\n",
       "      <td>0.055851</td>\n",
       "      <td>0.998367</td>\n",
       "      <td>1</td>\n",
       "    </tr>\n",
       "    <tr>\n",
       "      <th>4</th>\n",
       "      <td>0</td>\n",
       "      <td>2</td>\n",
       "      <td>0.010752</td>\n",
       "      <td>0.005636</td>\n",
       "      <td>0.051981</td>\n",
       "      <td>0.998574</td>\n",
       "      <td>2</td>\n",
       "    </tr>\n",
       "  </tbody>\n",
       "</table>\n",
       "</div>"
      ],
      "text/plain": [
       "  species island culmen_length_mm culmen_depth_mm flipper_length_mm  \\\n",
       "0       0      2         0.010414        0.004981          0.048207   \n",
       "1       0      2         0.010382        0.004573          0.048886   \n",
       "2       0      2         0.012377        0.005528          0.059887   \n",
       "3       0      2          0.01062        0.005585          0.055851   \n",
       "4       0      2         0.010752        0.005636          0.051981   \n",
       "\n",
       "  body_mass_g sex  \n",
       "0    0.998771   2  \n",
       "1     0.99874   1  \n",
       "2    0.998113   1  \n",
       "3    0.998367   1  \n",
       "4    0.998574   2  "
      ]
     },
     "execution_count": 4,
     "metadata": {},
     "output_type": "execute_result"
    }
   ],
   "source": [
    "#cargar datos de mysql a un dataframe\n",
    "query = \"SELECT * FROM penguins\"\n",
    "cursor.execute(query)\n",
    "columns = [col[0] for col in cursor.description]\n",
    "df = pd.DataFrame(cursor.fetchall(), columns=columns)\n",
    "\n",
    "# Codificar variables categoricas\n",
    "le = LabelEncoder()\n",
    "for variable in categorical:\n",
    "    df[variable] = le.fit_transform(df[variable])\n",
    "\n",
    "# Normalizar variables numericas\n",
    "scaler = Normalizer()\n",
    "df[continuous] = scaler.fit_transform(df[continuous])\n",
    "\n",
    "#convertir datos a tipo facil de convertir a mysql\n",
    "df = df.astype(object)  \n",
    "\n",
    "#queyr para insertar datos\n",
    "query = \"INSERT INTO penguins_proc (species, island, culmen_length_mm, culmen_depth_mm, flipper_length_mm, body_mass_g, sex) \\\n",
    "VALUES (%s, %s, %s, %s, %s, %s, %s)\"\n",
    "\n",
    "#almacenar datos en tuplas\n",
    "values = [tuple(row) for row in df.values]\n",
    "\n",
    "#insertar datos en mysql\n",
    "cursor.executemany(query, values)\n",
    "conn.commit()\n",
    "\n",
    "df.head()\n"
   ]
  },
  {
   "cell_type": "markdown",
   "id": "6ff75a19-ca64-4e6f-ac61-6fae0791bbe0",
   "metadata": {},
   "source": [
    "## Entrenamiento de Modelos"
   ]
  },
  {
   "cell_type": "code",
   "execution_count": 14,
   "id": "41054614-2fc9-46d4-b6eb-8c2cb5a17d0e",
   "metadata": {
    "editable": true,
    "slideshow": {
     "slide_type": ""
    },
    "tags": []
   },
   "outputs": [
    {
     "data": {
      "text/html": [
       "<div>\n",
       "<style scoped>\n",
       "    .dataframe tbody tr th:only-of-type {\n",
       "        vertical-align: middle;\n",
       "    }\n",
       "\n",
       "    .dataframe tbody tr th {\n",
       "        vertical-align: top;\n",
       "    }\n",
       "\n",
       "    .dataframe thead th {\n",
       "        text-align: right;\n",
       "    }\n",
       "</style>\n",
       "<table border=\"1\" class=\"dataframe\">\n",
       "  <thead>\n",
       "    <tr style=\"text-align: right;\">\n",
       "      <th></th>\n",
       "      <th>island</th>\n",
       "      <th>culmen_length_mm</th>\n",
       "      <th>culmen_depth_mm</th>\n",
       "      <th>flipper_length_mm</th>\n",
       "      <th>body_mass_g</th>\n",
       "      <th>sex</th>\n",
       "    </tr>\n",
       "  </thead>\n",
       "  <tbody>\n",
       "    <tr>\n",
       "      <th>271</th>\n",
       "      <td>0</td>\n",
       "      <td>0.009697</td>\n",
       "      <td>0.003255</td>\n",
       "      <td>0.046688</td>\n",
       "      <td>0.998857</td>\n",
       "      <td>1</td>\n",
       "    </tr>\n",
       "    <tr>\n",
       "      <th>1393</th>\n",
       "      <td>0</td>\n",
       "      <td>0.010136</td>\n",
       "      <td>0.004489</td>\n",
       "      <td>0.047351</td>\n",
       "      <td>0.998817</td>\n",
       "      <td>2</td>\n",
       "    </tr>\n",
       "    <tr>\n",
       "      <th>2526</th>\n",
       "      <td>1</td>\n",
       "      <td>0.014315</td>\n",
       "      <td>0.005371</td>\n",
       "      <td>0.055121</td>\n",
       "      <td>0.998363</td>\n",
       "      <td>2</td>\n",
       "    </tr>\n",
       "    <tr>\n",
       "      <th>1564</th>\n",
       "      <td>0</td>\n",
       "      <td>0.010890</td>\n",
       "      <td>0.003472</td>\n",
       "      <td>0.049934</td>\n",
       "      <td>0.998687</td>\n",
       "      <td>1</td>\n",
       "    </tr>\n",
       "    <tr>\n",
       "      <th>972</th>\n",
       "      <td>0</td>\n",
       "      <td>0.009569</td>\n",
       "      <td>0.003049</td>\n",
       "      <td>0.044585</td>\n",
       "      <td>0.998955</td>\n",
       "      <td>1</td>\n",
       "    </tr>\n",
       "  </tbody>\n",
       "</table>\n",
       "</div>"
      ],
      "text/plain": [
       "      island  culmen_length_mm  culmen_depth_mm  flipper_length_mm  \\\n",
       "271        0          0.009697         0.003255           0.046688   \n",
       "1393       0          0.010136         0.004489           0.047351   \n",
       "2526       1          0.014315         0.005371           0.055121   \n",
       "1564       0          0.010890         0.003472           0.049934   \n",
       "972        0          0.009569         0.003049           0.044585   \n",
       "\n",
       "      body_mass_g  sex  \n",
       "271      0.998857    1  \n",
       "1393     0.998817    2  \n",
       "2526     0.998363    2  \n",
       "1564     0.998687    1  \n",
       "972      0.998955    1  "
      ]
     },
     "execution_count": 14,
     "metadata": {},
     "output_type": "execute_result"
    }
   ],
   "source": [
    "#cargar datos procesados de mysql a dataframe\n",
    "query = \"SELECT * FROM penguins_proc\"\n",
    "cursor.execute(query)\n",
    "columns = [col[0] for col in cursor.description]\n",
    "df = pd.DataFrame(cursor.fetchall(), columns=columns)\n",
    "\n",
    "#separar etiqueta de descriptores\n",
    "y = df['species']\n",
    "X = df.drop(['species'], axis=1)\n",
    "\n",
    "# dividir datos entre train y test\n",
    "X_train, X_test,y_train, y_test = train_test_split(X,y , \n",
    "                               random_state=50,  \n",
    "                               test_size=0.30) \n",
    "\n",
    "X_train.head()"
   ]
  },
  {
   "cell_type": "code",
   "execution_count": 15,
   "id": "043aed32-6661-425a-af00-42cdf97b9341",
   "metadata": {},
   "outputs": [
    {
     "name": "stdout",
     "output_type": "stream",
     "text": [
      "Best Parameters: {'C': 100, 'gamma': 1}\n"
     ]
    }
   ],
   "source": [
    "# definir malla de hiperparametros\n",
    "param_grid = {\n",
    "    'C': [0.1, 1, 10, 100],\n",
    "    'gamma': ['scale', 'auto', 0.01, 0.1, 1],\n",
    "}\n",
    "\n",
    "# inicializar svm\n",
    "svm = SVC()\n",
    "\n",
    "# buscar hiperparametros mas optimos\n",
    "grid_search = GridSearchCV(svm, param_grid, cv=5, scoring='accuracy', n_jobs=-1)\n",
    "grid_search.fit(X_train, y_train)\n",
    "\n",
    "# mejor modelo\n",
    "model = grid_search.best_estimator_\n",
    "\n",
    "# resultado\n",
    "print(\"Best Parameters:\", grid_search.best_params_)"
   ]
  },
  {
   "cell_type": "markdown",
   "id": "586e6fe0-c3ed-41d3-92be-206100171c1f",
   "metadata": {},
   "source": [
    "## Entrenamiento de Modelos MLflow"
   ]
  },
  {
   "cell_type": "code",
   "execution_count": 5,
   "id": "5f0f8545-bb7d-4749-9e23-e31b3d95edbc",
   "metadata": {},
   "outputs": [
    {
     "name": "stderr",
     "output_type": "stream",
     "text": [
      "/src/train_models/.venv/lib/python3.12/site-packages/mlflow/protos/service_pb2.py:11: UserWarning: google.protobuf.service module is deprecated. RPC implementations should provide code generator plugins which generate code specific to the RPC implementation. service.py will be removed in Jan 2025\n",
      "  from google.protobuf import service as _service\n"
     ]
    }
   ],
   "source": [
    "import mlflow\n",
    "\n",
    "from sklearn.model_selection import train_test_split\n",
    "from sklearn.model_selection import GridSearchCV\n",
    "\n",
    "import os\n",
    "os.environ['MLFLOW_S3_ENDPOINT_URL'] = \"http://10.43.101.166:9000\"\n",
    "os.environ['AWS_ACCESS_KEY_ID'] = 'admin'\n",
    "os.environ['AWS_SECRET_ACCESS_KEY'] = 'supersecret'\n",
    "\n",
    "#cargar datos procesados de mysql a dataframe\n",
    "query = \"SELECT * FROM penguins_proc\"\n",
    "cursor.execute(query)\n",
    "columns = [col[0] for col in cursor.description]\n",
    "df = pd.DataFrame(cursor.fetchall(), columns=columns)\n",
    "\n",
    "#separar etiqueta de descriptores\n",
    "y = df['species']\n",
    "X = df.drop(['species'], axis=1)\n",
    "\n",
    "# dividir datos entre train y test\n",
    "X_train, X_test,y_train, y_test = train_test_split(X,y , \n",
    "                               random_state=50,  \n",
    "                               test_size=0.30)\n",
    "\n"
   ]
  },
  {
   "cell_type": "code",
   "execution_count": 8,
   "id": "e881ccd8-c222-4546-9d1e-bb97ae1ebc43",
   "metadata": {},
   "outputs": [],
   "source": [
    "import boto3\n",
    "from sklearn.model_selection import GridSearchCV"
   ]
  },
  {
   "cell_type": "code",
   "execution_count": 10,
   "id": "5462d9bf-265d-4f7a-a4eb-85c82fec87e2",
   "metadata": {},
   "outputs": [
    {
     "name": "stderr",
     "output_type": "stream",
     "text": [
      "2025/03/17 04:52:43 WARNING mlflow.utils.autologging_utils: You are using an unsupported version of sklearn. If you encounter errors during autologging, try upgrading / downgrading sklearn to a supported version, or try upgrading MLflow.\n",
      "2025/03/17 04:52:43 INFO mlflow.tracking.fluent: Autologging successfully enabled for sklearn.\n",
      "2025/03/17 04:52:43 WARNING mlflow.utils.autologging_utils: MLflow autologging encountered a warning: \"/src/train_models/.venv/lib/python3.12/site-packages/mlflow/data/digest_utils.py:26: FutureWarning: DataFrame.applymap has been deprecated. Use DataFrame.map instead.\"\n",
      "2025/03/17 04:52:43 WARNING mlflow.utils.autologging_utils: MLflow autologging encountered a warning: \"/src/train_models/.venv/lib/python3.12/site-packages/mlflow/types/utils.py:394: UserWarning: Hint: Inferred schema contains integer column(s). Integer columns in Python cannot represent missing values. If your input data contains missing values at inference time, it will be encoded as floats and will cause a schema enforcement error. The best way to avoid this problem is to infer the model schema based on a realistic data sample (training dataset) that includes missing values. Alternatively, you can declare integer columns as doubles (float64) whenever these columns may have missing values. See `Handling Integers With Missing Values <https://www.mlflow.org/docs/latest/models.html#handling-integers-with-missing-values>`_ for more details.\"\n",
      "2025/03/17 04:54:25 WARNING mlflow.utils.autologging_utils: MLflow autologging encountered a warning: \"/src/train_models/.venv/lib/python3.12/site-packages/mlflow/types/utils.py:394: UserWarning: Hint: Inferred schema contains integer column(s). Integer columns in Python cannot represent missing values. If your input data contains missing values at inference time, it will be encoded as floats and will cause a schema enforcement error. The best way to avoid this problem is to infer the model schema based on a realistic data sample (training dataset) that includes missing values. Alternatively, you can declare integer columns as doubles (float64) whenever these columns may have missing values. See `Handling Integers With Missing Values <https://www.mlflow.org/docs/latest/models.html#handling-integers-with-missing-values>`_ for more details.\"\n",
      "2025/03/17 04:54:30 WARNING mlflow.utils.environment: Failed to resolve installed pip version. ``pip`` will be added to conda.yaml environment spec without a version specifier.\n",
      "2025/03/17 04:54:34 WARNING mlflow.utils.environment: Failed to resolve installed pip version. ``pip`` will be added to conda.yaml environment spec without a version specifier.\n",
      "2025/03/17 04:54:34 INFO mlflow.sklearn.utils: Logging the 5 best runs, 15 runs will be omitted.\n",
      "2025/03/17 04:54:38 WARNING mlflow.utils.environment: Failed to resolve installed pip version. ``pip`` will be added to conda.yaml environment spec without a version specifier.\n"
     ]
    },
    {
     "name": "stdout",
     "output_type": "stream",
     "text": [
      "tracking uri: http://10.43.101.166:5000\n",
      "artifact uri: s3://mlflows3/artifacts/1/ec1c9e6e9af44a09ace375019d6c806b/artifacts\n"
     ]
    }
   ],
   "source": [
    "# connect to mlflow\n",
    "mlflow.set_tracking_uri(\"http://10.43.101.166:5000\")\n",
    "mlflow.set_experiment(\"mlflow_tracking_examples_class1\")\n",
    "\n",
    "mlflow.autolog(log_model_signatures=True, log_input_examples=True)\n",
    "\n",
    "with mlflow.start_run(run_name=\"logged_artifacts\") as run:\n",
    "    params = {\n",
    "    'C': [0.1, 1, 10, 100],\n",
    "    'gamma': ['scale', 'auto', 0.01, 0.1, 1],\n",
    "}\n",
    "\n",
    "    # inicializar svm\n",
    "    svm = SVC()\n",
    "\n",
    "    # buscar hiperparametros mas optimos\n",
    "    grid_search = GridSearchCV(svm, params, cv=5, scoring='accuracy', n_jobs=-1)\n",
    "    grid_search.fit(X_train, y_train)\n",
    "\n",
    "    mlflow.log_params(params)\n",
    "    mlflow.sklearn.log_model(\n",
    "      sk_model=grid_search,\n",
    "      artifact_path=\"svm\"\n",
    "    )\n",
    "\n",
    "print('tracking uri:', mlflow.get_tracking_uri())\n",
    "print('artifact uri:', mlflow.get_artifact_uri())"
   ]
  },
  {
   "cell_type": "code",
   "execution_count": null,
   "id": "5efb502c-b138-4494-a204-37c055356e3a",
   "metadata": {},
   "outputs": [],
   "source": []
  },
  {
   "cell_type": "code",
   "execution_count": 52,
   "id": "cadc0df9-c519-4ee8-8ace-291e131d944e",
   "metadata": {},
   "outputs": [
    {
     "name": "stdout",
     "output_type": "stream",
     "text": [
      "✅ Archivo descargado en: models/model.pkl\n"
     ]
    }
   ],
   "source": [
    "import boto3\n",
    "\n",
    "# Configuración de MinIO\n",
    "minio_endpoint = \"http://10.43.101.166:9000\"  # Ajusta si está en otro servidor\n",
    "access_key = \"admin\"\n",
    "secret_key = \"supersecret\"\n",
    "bucket_name = \"mlflows3\"\n",
    "object_key = \"artifacts/1/e5b9a57d50534be9bd5ae97f5390da60/artifacts/best_estimator/model.pkl\"\n",
    "local_file_path = \"models/model.pkl\"\n",
    "\n",
    "# Crear cliente MinIO\n",
    "s3_client = boto3.client(\n",
    "    \"s3\",\n",
    "    endpoint_url=minio_endpoint,\n",
    "    aws_access_key_id=access_key,\n",
    "    aws_secret_access_key=secret_key\n",
    ")\n",
    "\n",
    "# Descargar el archivo\n",
    "s3_client.download_file(bucket_name, object_key, local_file_path)\n",
    "print(f\"✅ Archivo descargado en: {local_file_path}\")\n"
   ]
  },
  {
   "cell_type": "code",
   "execution_count": null,
   "id": "10fe60cc-24aa-4339-b2b5-12e106d28b33",
   "metadata": {},
   "outputs": [],
   "source": []
  },
  {
   "cell_type": "markdown",
   "id": "927619fd-79b3-48de-8b4e-3cf4729359f3",
   "metadata": {
    "jp-MarkdownHeadingCollapsed": true
   },
   "source": [
    "## Registro de modelos"
   ]
  },
  {
   "cell_type": "markdown",
   "id": "b895e8ca-c3ad-44d7-9251-6d9936b0377d",
   "metadata": {},
   "source": [
    "## Borrar Tablas"
   ]
  },
  {
   "cell_type": "code",
   "execution_count": 30,
   "id": "eb02c04d-87b2-40a0-9142-79e3a9cb57e2",
   "metadata": {},
   "outputs": [],
   "source": [
    "query = \"DROP TABLE IF EXISTS penguins\"\n",
    "cursor.execute(query)\n",
    "\n",
    "query = \"DROP TABLE IF EXISTS penguins_proc\"\n",
    "cursor.execute(query)\n",
    "\n",
    "conn.commit()\n",
    "\n",
    "cursor.close()\n",
    "conn.close()"
   ]
  }
 ],
 "metadata": {
  "kernelspec": {
   "display_name": "Python 3 (ipykernel)",
   "language": "python",
   "name": "python3"
  },
  "language_info": {
   "codemirror_mode": {
    "name": "ipython",
    "version": 3
   },
   "file_extension": ".py",
   "mimetype": "text/x-python",
   "name": "python",
   "nbconvert_exporter": "python",
   "pygments_lexer": "ipython3",
   "version": "3.12.9"
  }
 },
 "nbformat": 4,
 "nbformat_minor": 5
}
